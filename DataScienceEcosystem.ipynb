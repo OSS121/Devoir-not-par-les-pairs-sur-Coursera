{
 "cells": [
  {
   "cell_type": "markdown",
   "id": "0cee79cd",
   "metadata": {},
   "source": [
    "# Data Science Tools and Ecosystem\n"
   ]
  },
  {
   "cell_type": "markdown",
   "id": "438d8178",
   "metadata": {},
   "source": [
    "Dans ce carnet, les outils et l’écosystème de la science des données sont résumés."
   ]
  },
  {
   "cell_type": "markdown",
   "id": "4431c074",
   "metadata": {},
   "source": [
    "*Voici quelques langages populaires utilisés en science des données :*\n",
    "\n",
    "1. Python\n",
    "2. Julia\n",
    "3. SQL\n",
    "4. R\n",
    "5. Scala"
   ]
  },
  {
   "cell_type": "markdown",
   "id": "6d6c12ac",
   "metadata": {},
   "source": [
    "Quelques bibliothèques couramment utilisées en science des données incluent :\n",
    "\n",
    "1. Pandas\n",
    "2. NumPy\n",
    "3. Matplotlib\n",
    "4. Scikit-learn\n",
    "5. TensorFlow"
   ]
  },
  {
   "cell_type": "markdown",
   "id": "c8537805",
   "metadata": {},
   "source": [
    "| Data Science Tools |\n",
    "| ----------------- |\n",
    "| JupyterLab |\n",
    "| RStudio |\n",
    "| VS Code |"
   ]
  },
  {
   "cell_type": "markdown",
   "id": "8b82a98d",
   "metadata": {},
   "source": [
    "### Voici quelques exemples d'évaluation d'expressions arithmétiques en Python"
   ]
  },
  {
   "cell_type": "code",
   "execution_count": 2,
   "id": "5887fe38",
   "metadata": {},
   "outputs": [
    {
     "data": {
      "text/plain": [
       "17"
      ]
     },
     "execution_count": 2,
     "metadata": {},
     "output_type": "execute_result"
    }
   ],
   "source": [
    "# Cette expression multiplie d'abord 3 et 4, puis ajoute 5 au résultat\n",
    "(3*4)+5"
   ]
  },
  {
   "cell_type": "code",
   "execution_count": 3,
   "id": "f42d30b5",
   "metadata": {},
   "outputs": [
    {
     "data": {
      "text/plain": [
       "3.3333333333333335"
      ]
     },
     "execution_count": 3,
     "metadata": {},
     "output_type": "execute_result"
    }
   ],
   "source": [
    "# Convertir 200 minutes en heures en divisant par 60 minutes/heure\n",
    "200/60"
   ]
  },
  {
   "cell_type": "markdown",
   "id": "e68c3818",
   "metadata": {},
   "source": [
    "**Objectives :**\n",
    "* Lister les langages de programmation populaires en science des données\n",
    "* Identifier les bibliothèques couramment utilisées en science des données\n",
    "* Explorer les principaux outils de développement pour la science des données\n",
    "* Comprendre les opérations arithmétiques de base en Python\n",
    "* Effectuer des conversions d'unités simples en utilisant Python"
   ]
  },
  {
   "cell_type": "markdown",
   "id": "c980d365",
   "metadata": {},
   "source": [
    "## Auteur"
   ]
  },
  {
   "cell_type": "markdown",
   "id": "61b5c059",
   "metadata": {},
   "source": [
    "Ousseynou Seny Sylla"
   ]
  },
  {
   "cell_type": "code",
   "execution_count": null,
   "id": "ffc64800",
   "metadata": {},
   "outputs": [],
   "source": []
  }
 ],
 "metadata": {
  "kernelspec": {
   "display_name": "Python 3 (ipykernel)",
   "language": "python",
   "name": "python3"
  },
  "language_info": {
   "codemirror_mode": {
    "name": "ipython",
    "version": 3
   },
   "file_extension": ".py",
   "mimetype": "text/x-python",
   "name": "python",
   "nbconvert_exporter": "python",
   "pygments_lexer": "ipython3",
   "version": "3.11.4"
  }
 },
 "nbformat": 4,
 "nbformat_minor": 5
}
